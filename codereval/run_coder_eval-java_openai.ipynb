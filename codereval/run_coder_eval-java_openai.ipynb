{
 "cells": [
  {
   "cell_type": "markdown",
   "metadata": {},
   "source": [
    "Imports"
   ]
  },
  {
   "cell_type": "code",
   "execution_count": 43,
   "metadata": {},
   "outputs": [],
   "source": [
    "import pandas as pd\n",
    "import general_adapter\n",
    "from openai import OpenAI\n",
    "import re"
   ]
  },
  {
   "cell_type": "markdown",
   "metadata": {},
   "source": [
    "Args"
   ]
  },
  {
   "cell_type": "code",
   "execution_count": 44,
   "metadata": {},
   "outputs": [],
   "source": [
    "class Args():\n",
    "    file_path_base = 'CoderEval4Java.json'\n",
    "    file_path_label = 'CEJavaHumanLabel.jsonl'\n",
    "\n",
    "    # prompt stuff\n",
    "    prompt_num = 37\n",
    "\n",
    "    # model stuff\n",
    "    model = 'gpt-4-turbo'\n",
    "    key = ''\n",
    "\n",
    "args=Args()"
   ]
  },
  {
   "cell_type": "markdown",
   "metadata": {},
   "source": [
    "Load Dataset and Print Columns"
   ]
  },
  {
   "cell_type": "code",
   "execution_count": 45,
   "metadata": {},
   "outputs": [
    {
     "name": "stdout",
     "output_type": "stream",
     "text": [
      "Index(['_id', 'all_context', 'class_name', 'code', 'docstring', 'end_lineno',\n",
      "       'file_content', 'file_name', 'human_label', 'level', 'lineno', 'name',\n",
      "       'oracle_context', 'package', 'project'],\n",
      "      dtype='object')\n",
      "Index(['question_id', 'input', 'signature', 'docstring'], dtype='object')\n"
     ]
    }
   ],
   "source": [
    "\n",
    "\n",
    "with open(args.file_path_base, 'r') as file:\n",
    "    df_base = pd.json_normalize(pd.read_json(file)['RECORDS'])\n",
    "\n",
    "df_label = pd.read_json(args.file_path_label, lines=True)\n",
    "\n",
    "print(df_base.columns)\n",
    "print(df_label.columns)"
   ]
  },
  {
   "cell_type": "markdown",
   "metadata": {},
   "source": [
    "Filter Dataframes To Only Include All Self-Contained Prompts"
   ]
  },
  {
   "cell_type": "code",
   "execution_count": 46,
   "metadata": {},
   "outputs": [
    {
     "name": "stdout",
     "output_type": "stream",
     "text": [
      "(55, 15)\n",
      "(55, 4)\n"
     ]
    }
   ],
   "source": [
    "# truncate df_base to only include prompts with level as \"self_contained\"\n",
    "df_base_filtered = df_base[df_base['level'] == 'self_contained']\n",
    "# reset index\n",
    "df_base_filtered.reset_index(drop=True, inplace=True)\n",
    "print(df_base_filtered.shape)\n",
    "# saved all the question_ids in df_base_filtered to a list\n",
    "self_contained_ids = df_base_filtered['_id'].tolist()\n",
    "\n",
    "# filter df_label to only include rows with question_id in question_ids\n",
    "df_label_filtered = df_label[df_label['question_id'].isin(self_contained_ids)]\n",
    "# reset index\n",
    "df_label_filtered.reset_index(drop=True, inplace=True)\n",
    "print(df_label_filtered.shape)"
   ]
  },
  {
   "cell_type": "markdown",
   "metadata": {},
   "source": [
    "Print Content of Selected Prompt"
   ]
  },
  {
   "cell_type": "code",
   "execution_count": 47,
   "metadata": {},
   "outputs": [
    {
     "name": "stdout",
     "output_type": "stream",
     "text": [
      "question_id: 636767de1a6d9265ec01871e\n",
      "input: /**Check whether the key contains null.**/\n",
      "private void check(String modelName) throws IllegalStateException {\n",
      "signature: private void check(String modelName) throws IllegalStateException {\n",
      "docstring: Check whether the key contains null.\n"
     ]
    }
   ],
   "source": [
    "# for col in df_base.columns:\n",
    "#     print(f'{col}: {df_base[col][args.prompt_num]}')\n",
    "\n",
    "for col in df_label_filtered.columns:\n",
    "    print(f'{col}: {df_label_filtered[col][args.prompt_num]}')"
   ]
  },
  {
   "cell_type": "markdown",
   "metadata": {},
   "source": [
    "Printing Delta Components"
   ]
  },
  {
   "cell_type": "code",
   "execution_count": 48,
   "metadata": {},
   "outputs": [
    {
     "name": "stdout",
     "output_type": "stream",
     "text": [
      "Prompt:  37\n",
      "--------------------------------------------------\n",
      "FUNCTION HEADER\n",
      "private void check(String modelName) throws IllegalStateException {\n",
      "--------------------------------------------------\n",
      "DOCSTRING\n",
      "Check whether the key contains null.\n"
     ]
    }
   ],
   "source": [
    "function_header = df_label_filtered['signature'][args.prompt_num]\n",
    "docstring = df_label_filtered['docstring'][args.prompt_num]\n",
    "print('Prompt: ', args.prompt_num)\n",
    "print('-'*50)\n",
    "print('FUNCTION HEADER')\n",
    "print(function_header)\n",
    "print('-'*50)\n",
    "print('DOCSTRING')\n",
    "print(docstring)"
   ]
  },
  {
   "cell_type": "markdown",
   "metadata": {},
   "source": [
    "Make Deltas (Combinations)"
   ]
  },
  {
   "cell_type": "code",
   "execution_count": 49,
   "metadata": {},
   "outputs": [],
   "source": [
    "\n",
    "pattern = r\"\\b(public|private|protected)?\\s*(static)?\\s*([\\w\\[\\]<>, ]+)\\s+(\\w+)\\s*\\(([^)]*)\\)\\s*(throws\\s+[\\w\\., ]+)?\\s*{\"\n",
    "\n",
    "def extract_entry_point(function_header):\n",
    "    match = re.search(pattern, function_header)\n",
    "    if match:\n",
    "        return match.group(4)\n",
    "\n",
    "def normalized_function_header(function_header):\n",
    "    entry_point = extract_entry_point(function_header)\n",
    "    if entry_point:\n",
    "        return re.sub(entry_point, \"func\", function_header)\n",
    "    return function_header\n",
    "\n",
    "def del_underscore_and_caps(entry_point):\n",
    "    return entry_point.capitalize()\n",
    "\n",
    "def capitalize_first_letter(input_str):\n",
    "    if not input_str:\n",
    "        return input_str\n",
    "    first_char = input_str[0].upper()\n",
    "    rest_of_string = input_str[1:]\n",
    "    return first_char + rest_of_string"
   ]
  },
  {
   "cell_type": "code",
   "execution_count": 50,
   "metadata": {},
   "outputs": [],
   "source": [
    "df_entry_point = pd.DataFrame(columns=['prompt', 'function_header', 'entry_point'])\n",
    "\n",
    "for i in range(df_label_filtered.shape[0]):\n",
    "    function_header = df_label_filtered['signature'][i]\n",
    "    entry_point = extract_entry_point(function_header)\n",
    "    row = pd.DataFrame([{'prompt': i, 'function_header': function_header, 'entry_point': entry_point}])\n",
    "    df_entry_point = pd.concat([df_entry_point, row], ignore_index=True)\n",
    "    # export as csv\n",
    "df_entry_point.to_csv('entry_points.csv', index=False)"
   ]
  },
  {
   "cell_type": "code",
   "execution_count": 51,
   "metadata": {},
   "outputs": [],
   "source": [
    "def create_deltas(function_header, docstring):\n",
    "    deltas_dict = {}\n",
    "\n",
    "    # Pre-Transfromation Deltas\n",
    "    deltas_dict['delta_1'] = f'{function_header}\\n\"\"\"\\n{docstring}\\n\"\"\"\\n'\n",
    "    deltas_dict['delta_2'] = f'{docstring}\\nCreate a Java method named {extract_entry_point(function_header)}'\n",
    "    deltas_dict['delta_3'] = f'{normalized_function_header(function_header)}\\n\"\"\"\\n{docstring}\\n\"\"\"\\n'\n",
    "    # deltas_dict['delta_4'] = f'{docstring}\\n{function_header}'\n",
    "    deltas_dict['delta_4'] = f'{function_header}'\n",
    "\n",
    "    # Post-Transformation Deltas\n",
    "    docstring_transform = docstring.title() # capitalize the first letter of each word in the docstring\n",
    "    deadcode_transform = f'{function_header}\\n\\tif (False) {{\\n\\t\\tint[] x = new int[42];\\n\\t\\tfor (int i = 0; i < 42; i++) {{\\n\\t\\t\\tx[i] = i;\\n\\t\\t}}\\n\\t}}'\n",
    "    entry_point_transform = del_underscore_and_caps(extract_entry_point(function_header)) # transform the function name\n",
    "    entry_point_function_header_transform = function_header.replace(extract_entry_point(function_header), entry_point_transform) # replace the function name with a new name\n",
    "    entry_point_docstring_transform = docstring.replace(extract_entry_point(function_header), entry_point_transform) # replace the function name with a new name\n",
    "\n",
    "    deltas_dict['delta_5'] = f'{function_header}\\n\"\"\"\\n{docstring_transform}\\n\"\"\"\\n'\n",
    "    deltas_dict['delta_6'] = f'{deadcode_transform}\\n\"\"\"\\n{docstring}\\n\"\"\"\\n'\n",
    "    deltas_dict['delta_7'] = f'{entry_point_function_header_transform}\\n\"\"\"\\n{entry_point_docstring_transform}\\n\"\"\"\\n'\n",
    "\n",
    "    # New Deltas\n",
    "    prefix_docstring = f'DOCSTRING: {docstring}'\n",
    "    entry_point = extract_entry_point(function_header)\n",
    "    prefix_entry_point = f'method{capitalize_first_letter(entry_point)}'\n",
    "    print(prefix_entry_point)\n",
    "    function_header_prefix = function_header.replace(entry_point, prefix_entry_point)\n",
    "    deltas_dict['delta_8'] = f'{function_header}\\n\"\"\"\\n{prefix_docstring}\\n\"\"\"\\n'\n",
    "    deltas_dict['delta_9'] = f'{function_header_prefix}\\n\"\"\"\\n{docstring.replace(entry_point, prefix_entry_point)}\\n\"\"\"\\n'\n",
    "\n",
    "    return deltas_dict"
   ]
  },
  {
   "cell_type": "markdown",
   "metadata": {},
   "source": [
    "LLM Inference Helper Functions"
   ]
  },
  {
   "cell_type": "code",
   "execution_count": 52,
   "metadata": {},
   "outputs": [],
   "source": [
    "def generate_openai_output(delta):\n",
    "    question = f\"{delta}\"\n",
    "    client = OpenAI(api_key=args.key)\n",
    "    response = client.chat.completions.create(\n",
    "        model=args.model,\n",
    "        messages=[{'role': 'user', 'content': question}],\n",
    "        max_tokens=2048,\n",
    "        temperature=0\n",
    "    )\n",
    "    answer = response.choices[0].message.content.strip()\n",
    "    return answer"
   ]
  },
  {
   "cell_type": "code",
   "execution_count": 53,
   "metadata": {},
   "outputs": [
    {
     "name": "stdout",
     "output_type": "stream",
     "text": [
      "methodTrimArrayElements\n",
      "methodIsSameLength\n",
      "methodPop\n",
      "methodToPrimitive\n",
      "methodShouldPrintMessage\n",
      "methodToString\n",
      "methodVisitFrameStart\n",
      "methodParseEndOfLine\n",
      "methodToBoolean\n",
      "methodAccept\n",
      "methodNullToEmpty\n",
      "methodNullToEmpty\n",
      "methodBuildTimeRanges\n",
      "methodToPrimitive\n",
      "methodComputeUTF8Size\n",
      "methodRemove\n",
      "methodStartsWithIgnoreCase\n",
      "methodEndsWith\n",
      "methodNullToEmpty\n",
      "methodNullToEmpty\n",
      "methodSwap\n",
      "methodIsEmpty\n",
      "methodCopyStrings\n",
      "methodEnlarge\n",
      "methodInsert\n",
      "methodIsNotTrue\n",
      "methodToPrimitive\n",
      "methodToString\n",
      "methodToChar\n",
      "methodDigitValue\n",
      "methodComputeBinaryLog\n",
      "methodIsAllZeros\n",
      "methodReadLabel\n",
      "methodToBoolean\n",
      "methodToString\n",
      "methodFactorial\n",
      "methodCompareSigned\n",
      "methodCheck\n",
      "methodToPrimitive\n",
      "methodIsAsciiControl\n",
      "methodToByteArray\n",
      "methodReload\n",
      "methodCountOccurrencesOf\n",
      "methodPop\n",
      "methodOverrideName\n",
      "methodToPrimitive\n",
      "methodStartsWith\n",
      "methodIsAsciiAlphaUpper\n",
      "methodLength\n",
      "methodIsHex\n",
      "methodIsSameLength\n",
      "methodClone\n",
      "methodArrayequals\n",
      "methodIsAscii\n",
      "methodEncodeTemplateNames\n"
     ]
    }
   ],
   "source": [
    "df_new_deltas = pd.DataFrame(columns=['_id', 'delta_num', 'delta_val'])\n",
    "\n",
    "for i in range(len(df_label_filtered)):\n",
    "    id = self_contained_ids[i]\n",
    "    function_header = df_label_filtered['signature'][i]\n",
    "    docstring = df_label_filtered['docstring'][i]\n",
    "    deltas_dict = create_deltas(function_header, docstring)\n",
    "    row1 = pd.DataFrame([{'_id': id, 'delta_num': '8', 'delta_val': deltas_dict['delta_8']}])\n",
    "    row2 = pd.DataFrame([{'_id': id, 'delta_num': '9', 'delta_val': deltas_dict['delta_9']}])\n",
    "    df_new_deltas = pd.concat([df_new_deltas, row1], ignore_index=True)\n",
    "    df_new_deltas = pd.concat([df_new_deltas, row2], ignore_index=True)\n",
    "\n",
    "# export the new deltas to a jsonl file\n",
    "df_new_deltas.to_json('codereval-java_delta8_delta9.jsonl', orient='records', lines=True)"
   ]
  },
  {
   "cell_type": "markdown",
   "metadata": {},
   "source": [
    "Generate LLM Output"
   ]
  },
  {
   "cell_type": "code",
   "execution_count": 54,
   "metadata": {},
   "outputs": [
    {
     "name": "stdout",
     "output_type": "stream",
     "text": [
      "Prompt: 0\n",
      "methodTrimArrayElements\n",
      "Generating Output for Delta 1 of 2\n",
      "Generating Output for Delta 2 of 2\n",
      "Prompt: 1\n",
      "methodIsSameLength\n",
      "Generating Output for Delta 1 of 2\n",
      "Generating Output for Delta 2 of 2\n",
      "Prompt: 2\n",
      "methodPop\n",
      "Generating Output for Delta 1 of 2\n",
      "Generating Output for Delta 2 of 2\n",
      "Prompt: 3\n",
      "methodToPrimitive\n",
      "Generating Output for Delta 1 of 2\n",
      "Generating Output for Delta 2 of 2\n",
      "Prompt: 4\n",
      "methodShouldPrintMessage\n",
      "Generating Output for Delta 1 of 2\n",
      "Generating Output for Delta 2 of 2\n",
      "Prompt: 5\n",
      "methodToString\n",
      "Generating Output for Delta 1 of 2\n",
      "Generating Output for Delta 2 of 2\n",
      "Prompt: 6\n",
      "methodVisitFrameStart\n",
      "Generating Output for Delta 1 of 2\n",
      "Generating Output for Delta 2 of 2\n",
      "Prompt: 7\n",
      "methodParseEndOfLine\n",
      "Generating Output for Delta 1 of 2\n",
      "Generating Output for Delta 2 of 2\n",
      "Prompt: 8\n",
      "methodToBoolean\n",
      "Generating Output for Delta 1 of 2\n",
      "Generating Output for Delta 2 of 2\n",
      "Prompt: 9\n",
      "methodAccept\n",
      "Generating Output for Delta 1 of 2\n",
      "Generating Output for Delta 2 of 2\n",
      "Prompt: 10\n",
      "methodNullToEmpty\n",
      "Generating Output for Delta 1 of 2\n",
      "Generating Output for Delta 2 of 2\n",
      "Prompt: 11\n",
      "methodNullToEmpty\n",
      "Generating Output for Delta 1 of 2\n",
      "Generating Output for Delta 2 of 2\n",
      "Prompt: 12\n",
      "methodBuildTimeRanges\n",
      "Generating Output for Delta 1 of 2\n",
      "Generating Output for Delta 2 of 2\n",
      "Prompt: 13\n",
      "methodToPrimitive\n",
      "Generating Output for Delta 1 of 2\n",
      "Generating Output for Delta 2 of 2\n",
      "Prompt: 14\n",
      "methodComputeUTF8Size\n",
      "Generating Output for Delta 1 of 2\n",
      "Generating Output for Delta 2 of 2\n",
      "Prompt: 15\n",
      "methodRemove\n",
      "Generating Output for Delta 1 of 2\n",
      "Generating Output for Delta 2 of 2\n",
      "Prompt: 16\n",
      "methodStartsWithIgnoreCase\n",
      "Generating Output for Delta 1 of 2\n",
      "Generating Output for Delta 2 of 2\n",
      "Prompt: 17\n",
      "methodEndsWith\n",
      "Generating Output for Delta 1 of 2\n",
      "Generating Output for Delta 2 of 2\n",
      "Prompt: 18\n",
      "methodNullToEmpty\n",
      "Generating Output for Delta 1 of 2\n",
      "Generating Output for Delta 2 of 2\n",
      "Prompt: 19\n",
      "methodNullToEmpty\n",
      "Generating Output for Delta 1 of 2\n",
      "Generating Output for Delta 2 of 2\n",
      "Prompt: 20\n",
      "methodSwap\n",
      "Generating Output for Delta 1 of 2\n",
      "Generating Output for Delta 2 of 2\n",
      "Prompt: 21\n",
      "methodIsEmpty\n",
      "Generating Output for Delta 1 of 2\n",
      "Generating Output for Delta 2 of 2\n",
      "Prompt: 22\n",
      "methodCopyStrings\n",
      "Generating Output for Delta 1 of 2\n",
      "Generating Output for Delta 2 of 2\n",
      "Prompt: 23\n",
      "methodEnlarge\n",
      "Generating Output for Delta 1 of 2\n",
      "Generating Output for Delta 2 of 2\n",
      "Prompt: 24\n",
      "methodInsert\n",
      "Generating Output for Delta 1 of 2\n",
      "Generating Output for Delta 2 of 2\n",
      "Prompt: 25\n",
      "methodIsNotTrue\n",
      "Generating Output for Delta 1 of 2\n",
      "Generating Output for Delta 2 of 2\n",
      "Prompt: 26\n",
      "methodToPrimitive\n",
      "Generating Output for Delta 1 of 2\n",
      "Generating Output for Delta 2 of 2\n",
      "Prompt: 27\n",
      "methodToString\n",
      "Generating Output for Delta 1 of 2\n",
      "Generating Output for Delta 2 of 2\n",
      "Prompt: 28\n",
      "methodToChar\n",
      "Generating Output for Delta 1 of 2\n",
      "Generating Output for Delta 2 of 2\n",
      "Prompt: 29\n",
      "methodDigitValue\n",
      "Generating Output for Delta 1 of 2\n",
      "Generating Output for Delta 2 of 2\n",
      "Prompt: 30\n",
      "methodComputeBinaryLog\n",
      "Generating Output for Delta 1 of 2\n",
      "Generating Output for Delta 2 of 2\n",
      "Prompt: 31\n",
      "methodIsAllZeros\n",
      "Generating Output for Delta 1 of 2\n",
      "Generating Output for Delta 2 of 2\n",
      "Prompt: 32\n",
      "methodReadLabel\n",
      "Generating Output for Delta 1 of 2\n",
      "Generating Output for Delta 2 of 2\n",
      "Prompt: 33\n",
      "methodToBoolean\n",
      "Generating Output for Delta 1 of 2\n",
      "Generating Output for Delta 2 of 2\n",
      "Prompt: 34\n",
      "methodToString\n",
      "Generating Output for Delta 1 of 2\n",
      "Generating Output for Delta 2 of 2\n",
      "Prompt: 35\n",
      "methodFactorial\n",
      "Generating Output for Delta 1 of 2\n",
      "Generating Output for Delta 2 of 2\n",
      "Prompt: 36\n",
      "methodCompareSigned\n",
      "Generating Output for Delta 1 of 2\n",
      "Generating Output for Delta 2 of 2\n",
      "Prompt: 37\n",
      "methodCheck\n",
      "Generating Output for Delta 1 of 2\n",
      "Generating Output for Delta 2 of 2\n",
      "Prompt: 38\n",
      "methodToPrimitive\n",
      "Generating Output for Delta 1 of 2\n",
      "Generating Output for Delta 2 of 2\n",
      "Prompt: 39\n",
      "methodIsAsciiControl\n",
      "Generating Output for Delta 1 of 2\n",
      "Generating Output for Delta 2 of 2\n",
      "Prompt: 40\n",
      "methodToByteArray\n",
      "Generating Output for Delta 1 of 2\n",
      "Generating Output for Delta 2 of 2\n",
      "Prompt: 41\n",
      "methodReload\n",
      "Generating Output for Delta 1 of 2\n",
      "Generating Output for Delta 2 of 2\n",
      "Prompt: 42\n",
      "methodCountOccurrencesOf\n",
      "Generating Output for Delta 1 of 2\n",
      "Generating Output for Delta 2 of 2\n",
      "Prompt: 43\n",
      "methodPop\n",
      "Generating Output for Delta 1 of 2\n",
      "Generating Output for Delta 2 of 2\n",
      "Prompt: 44\n",
      "methodOverrideName\n",
      "Generating Output for Delta 1 of 2\n",
      "Generating Output for Delta 2 of 2\n",
      "Prompt: 45\n",
      "methodToPrimitive\n",
      "Generating Output for Delta 1 of 2\n",
      "Generating Output for Delta 2 of 2\n",
      "Prompt: 46\n",
      "methodStartsWith\n",
      "Generating Output for Delta 1 of 2\n",
      "Generating Output for Delta 2 of 2\n",
      "Prompt: 47\n",
      "methodIsAsciiAlphaUpper\n",
      "Generating Output for Delta 1 of 2\n",
      "Generating Output for Delta 2 of 2\n",
      "Prompt: 48\n",
      "methodLength\n",
      "Generating Output for Delta 1 of 2\n",
      "Generating Output for Delta 2 of 2\n",
      "Prompt: 49\n",
      "methodIsHex\n",
      "Generating Output for Delta 1 of 2\n",
      "Generating Output for Delta 2 of 2\n",
      "Prompt: 50\n",
      "methodIsSameLength\n",
      "Generating Output for Delta 1 of 2\n",
      "Generating Output for Delta 2 of 2\n",
      "Prompt: 51\n",
      "methodClone\n",
      "Generating Output for Delta 1 of 2\n",
      "Generating Output for Delta 2 of 2\n",
      "Prompt: 52\n",
      "methodArrayequals\n",
      "Generating Output for Delta 1 of 2\n",
      "Generating Output for Delta 2 of 2\n",
      "Prompt: 53\n",
      "methodIsAscii\n",
      "Generating Output for Delta 1 of 2\n",
      "Generating Output for Delta 2 of 2\n",
      "Prompt: 54\n",
      "methodEncodeTemplateNames\n",
      "Generating Output for Delta 1 of 2\n",
      "Generating Output for Delta 2 of 2\n"
     ]
    }
   ],
   "source": [
    "df_results = pd.DataFrame(columns=['prompt', 'delta', 'code', 'llm_output'])\n",
    "\n",
    "for prompt_index in range(df_label_filtered.shape[0]):\n",
    "    print(f'Prompt: {prompt_index}')\n",
    "    function_header = df_label_filtered['signature'][prompt_index]\n",
    "    docstring = df_label_filtered['docstring'][prompt_index]\n",
    "    deltas_dict = create_deltas(function_header, docstring)\n",
    "\n",
    "    # temporary: remove all deltas except delta_8 and delta_9\n",
    "    deltas_dict = {key: deltas_dict[key] for key in ['delta_8', 'delta_9']}\n",
    "\n",
    "    for delta_index, delta in enumerate(deltas_dict):\n",
    "        print(f\"Generating Output for Delta {delta_index + 1} of {len(deltas_dict)}\")\n",
    "        llm_output = generate_openai_output(deltas_dict[delta])\n",
    "        code = general_adapter.extract_java_code(llm_output)\n",
    "        row = pd.DataFrame([{'prompt': prompt_index, 'delta': delta, 'code': code, 'llm_output': llm_output}])\n",
    "        df_results = pd.concat([df_results, row], ignore_inndex=True)"
   ]
  },
  {
   "cell_type": "markdown",
   "metadata": {},
   "source": [
    "Save Results to JSON"
   ]
  },
  {
   "cell_type": "code",
   "execution_count": 55,
   "metadata": {},
   "outputs": [],
   "source": [
    "# Save results to JSONL file\n",
    "df_results.to_json(f\"{args.model}_codereval-java_delta8_delta9.jsonl\", orient='records', lines=True)"
   ]
  }
 ],
 "metadata": {
  "kernelspec": {
   "display_name": "pdfc",
   "language": "python",
   "name": "python3"
  },
  "language_info": {
   "codemirror_mode": {
    "name": "ipython",
    "version": 3
   },
   "file_extension": ".py",
   "mimetype": "text/x-python",
   "name": "python",
   "nbconvert_exporter": "python",
   "pygments_lexer": "ipython3",
   "version": "3.12.1"
  }
 },
 "nbformat": 4,
 "nbformat_minor": 2
}
